{
 "cells": [
  {
   "cell_type": "markdown",
   "id": "3227638e",
   "metadata": {},
   "source": [
    "# RAPIDS + Plotly Dash on Paperspace ML-Driven Web Apps - Tutorial 1\n",
    "## Install Extra Libraries\n",
    "The RAPIDSAI container is our starting point.  However, to build this dashboard, we need some extra libraries from plot.ly and jupyter.  You'll only need to install this once per container.  Leave uncommented if this is your first run.  Otherwise comment the `!conda install` lines to save time running. "
   ]
  },
  {
   "cell_type": "code",
   "execution_count": 1,
   "id": "6d00d0d0",
   "metadata": {},
   "outputs": [],
   "source": [
    "!conda install -y -c conda-forge dash dash-bootstrap-components dash-html-components matplotlib plotly\n",
    "!conda install -c plotly jupyter-dash"
   ]
  },
  {
   "cell_type": "markdown",
   "id": "5aff3a64",
   "metadata": {},
   "source": [
    "## Imports"
   ]
  },
  {
   "cell_type": "code",
   "execution_count": 1,
   "id": "31b472e7",
   "metadata": {},
   "outputs": [],
   "source": [
    "import json\n",
    "import netifaces\n",
    "import matplotlib\n",
    "\n",
    "import numpy as np\n",
    "\n",
    "import cudf\n",
    "import cupy as cp\n",
    "import cupy\n",
    "import cuxfilter\n",
    "from cuxfilter.layouts import double_feature\n",
    "from cuxfilter.charts import scatter\n",
    "from cuxfilter.charts import heatmap\n",
    "\n",
    "from bokeh import palettes\n",
    "import plotly.graph_objects as go\n",
    "\n",
    "import dash\n",
    "import dash_bootstrap_components as dbc\n",
    "import dash_core_components as dcc\n",
    "import dash_html_components as html\n",
    "from dash.dependencies import Input, Output, State\n",
    "\n",
    "from flask import request\n",
    "\n",
    "#!pip install jupyter-dash\n",
    "from jupyter_dash import JupyterDash\n",
    "\n",
    "from IPython.display import display, HTML\n",
    "\n",
    "#from flask_caching import Cache"
   ]
  },
  {
   "cell_type": "markdown",
   "id": "7fb4c6ee",
   "metadata": {},
   "source": [
    "In case you need to share your dashboard with someone else, you should get your Jupyter Lab's Token"
   ]
  },
  {
   "cell_type": "code",
   "execution_count": 2,
   "id": "b97cb18c",
   "metadata": {},
   "outputs": [
    {
     "data": {
      "text/plain": [
       "'2a5e79f049072d25642240c28278e066'"
      ]
     },
     "execution_count": 2,
     "metadata": {},
     "output_type": "execute_result"
    }
   ],
   "source": [
    "import os\n",
    "os.getenv(\"JUPYTER_TOKEN\")"
   ]
  },
  {
   "cell_type": "markdown",
   "id": "eb36c873",
   "metadata": {},
   "source": [
    "## Import the Data.  \n",
    "This data is a pre-processed UMAP emebbeding of 65k+ cells and their gene expressions.  The pre-processing notebook can be found in \"https://github.com/clara-parabricks/rapids-single-cell-examples\""
   ]
  },
  {
   "cell_type": "code",
   "execution_count": 3,
   "id": "00e9c515",
   "metadata": {},
   "outputs": [],
   "source": [
    "tdf = cudf.read_csv(\"embeddings.csv\")"
   ]
  },
  {
   "cell_type": "code",
   "execution_count": 4,
   "id": "9bcea2a1",
   "metadata": {},
   "outputs": [
    {
     "data": {
      "text/html": [
       "<div>\n",
       "<style scoped>\n",
       "    .dataframe tbody tr th:only-of-type {\n",
       "        vertical-align: middle;\n",
       "    }\n",
       "\n",
       "    .dataframe tbody tr th {\n",
       "        vertical-align: top;\n",
       "    }\n",
       "\n",
       "    .dataframe thead th {\n",
       "        text-align: right;\n",
       "    }\n",
       "</style>\n",
       "<table border=\"1\" class=\"dataframe\">\n",
       "  <thead>\n",
       "    <tr style=\"text-align: right;\">\n",
       "      <th></th>\n",
       "      <th>Unnamed: 0</th>\n",
       "      <th>x</th>\n",
       "      <th>y</th>\n",
       "      <th>labels</th>\n",
       "      <th>ACE2</th>\n",
       "      <th>TMPRSS2</th>\n",
       "      <th>EPCAM</th>\n",
       "      <th>a_labels</th>\n",
       "      <th>t_labels</th>\n",
       "      <th>e_labels</th>\n",
       "    </tr>\n",
       "  </thead>\n",
       "  <tbody>\n",
       "    <tr>\n",
       "      <th>0</th>\n",
       "      <td>0</td>\n",
       "      <td>9.503851</td>\n",
       "      <td>-8.351698</td>\n",
       "      <td>0</td>\n",
       "      <td>0.0</td>\n",
       "      <td>0.0</td>\n",
       "      <td>0.0</td>\n",
       "      <td>0</td>\n",
       "      <td>0</td>\n",
       "      <td>0</td>\n",
       "    </tr>\n",
       "    <tr>\n",
       "      <th>1</th>\n",
       "      <td>1</td>\n",
       "      <td>9.392367</td>\n",
       "      <td>-8.634367</td>\n",
       "      <td>0</td>\n",
       "      <td>0.0</td>\n",
       "      <td>0.0</td>\n",
       "      <td>0.0</td>\n",
       "      <td>0</td>\n",
       "      <td>0</td>\n",
       "      <td>0</td>\n",
       "    </tr>\n",
       "    <tr>\n",
       "      <th>2</th>\n",
       "      <td>2</td>\n",
       "      <td>9.678045</td>\n",
       "      <td>-7.977596</td>\n",
       "      <td>0</td>\n",
       "      <td>0.0</td>\n",
       "      <td>0.0</td>\n",
       "      <td>0.0</td>\n",
       "      <td>0</td>\n",
       "      <td>0</td>\n",
       "      <td>0</td>\n",
       "    </tr>\n",
       "    <tr>\n",
       "      <th>3</th>\n",
       "      <td>3</td>\n",
       "      <td>9.367997</td>\n",
       "      <td>-8.725381</td>\n",
       "      <td>0</td>\n",
       "      <td>0.0</td>\n",
       "      <td>0.0</td>\n",
       "      <td>0.0</td>\n",
       "      <td>0</td>\n",
       "      <td>0</td>\n",
       "      <td>0</td>\n",
       "    </tr>\n",
       "    <tr>\n",
       "      <th>4</th>\n",
       "      <td>4</td>\n",
       "      <td>8.550529</td>\n",
       "      <td>-8.876944</td>\n",
       "      <td>0</td>\n",
       "      <td>0.0</td>\n",
       "      <td>0.0</td>\n",
       "      <td>0.0</td>\n",
       "      <td>0</td>\n",
       "      <td>0</td>\n",
       "      <td>0</td>\n",
       "    </tr>\n",
       "    <tr>\n",
       "      <th>5</th>\n",
       "      <td>5</td>\n",
       "      <td>9.212639</td>\n",
       "      <td>-9.136615</td>\n",
       "      <td>0</td>\n",
       "      <td>0.0</td>\n",
       "      <td>0.0</td>\n",
       "      <td>0.0</td>\n",
       "      <td>0</td>\n",
       "      <td>0</td>\n",
       "      <td>0</td>\n",
       "    </tr>\n",
       "    <tr>\n",
       "      <th>6</th>\n",
       "      <td>6</td>\n",
       "      <td>8.253753</td>\n",
       "      <td>-8.168339</td>\n",
       "      <td>0</td>\n",
       "      <td>0.0</td>\n",
       "      <td>0.0</td>\n",
       "      <td>0.0</td>\n",
       "      <td>0</td>\n",
       "      <td>0</td>\n",
       "      <td>0</td>\n",
       "    </tr>\n",
       "    <tr>\n",
       "      <th>7</th>\n",
       "      <td>7</td>\n",
       "      <td>9.153861</td>\n",
       "      <td>-8.079064</td>\n",
       "      <td>0</td>\n",
       "      <td>0.0</td>\n",
       "      <td>0.0</td>\n",
       "      <td>0.0</td>\n",
       "      <td>0</td>\n",
       "      <td>0</td>\n",
       "      <td>0</td>\n",
       "    </tr>\n",
       "    <tr>\n",
       "      <th>8</th>\n",
       "      <td>8</td>\n",
       "      <td>9.355730</td>\n",
       "      <td>-7.663003</td>\n",
       "      <td>0</td>\n",
       "      <td>0.0</td>\n",
       "      <td>0.0</td>\n",
       "      <td>0.0</td>\n",
       "      <td>0</td>\n",
       "      <td>0</td>\n",
       "      <td>0</td>\n",
       "    </tr>\n",
       "    <tr>\n",
       "      <th>9</th>\n",
       "      <td>9</td>\n",
       "      <td>9.194642</td>\n",
       "      <td>-8.888465</td>\n",
       "      <td>0</td>\n",
       "      <td>0.0</td>\n",
       "      <td>0.0</td>\n",
       "      <td>0.0</td>\n",
       "      <td>0</td>\n",
       "      <td>0</td>\n",
       "      <td>0</td>\n",
       "    </tr>\n",
       "  </tbody>\n",
       "</table>\n",
       "</div>"
      ],
      "text/plain": [
       "   Unnamed: 0         x         y  labels  ACE2  TMPRSS2  EPCAM  a_labels  \\\n",
       "0           0  9.503851 -8.351698       0   0.0      0.0    0.0         0   \n",
       "1           1  9.392367 -8.634367       0   0.0      0.0    0.0         0   \n",
       "2           2  9.678045 -7.977596       0   0.0      0.0    0.0         0   \n",
       "3           3  9.367997 -8.725381       0   0.0      0.0    0.0         0   \n",
       "4           4  8.550529 -8.876944       0   0.0      0.0    0.0         0   \n",
       "5           5  9.212639 -9.136615       0   0.0      0.0    0.0         0   \n",
       "6           6  8.253753 -8.168339       0   0.0      0.0    0.0         0   \n",
       "7           7  9.153861 -8.079064       0   0.0      0.0    0.0         0   \n",
       "8           8  9.355730 -7.663003       0   0.0      0.0    0.0         0   \n",
       "9           9  9.194642 -8.888465       0   0.0      0.0    0.0         0   \n",
       "\n",
       "   t_labels  e_labels  \n",
       "0         0         0  \n",
       "1         0         0  \n",
       "2         0         0  \n",
       "3         0         0  \n",
       "4         0         0  \n",
       "5         0         0  \n",
       "6         0         0  \n",
       "7         0         0  \n",
       "8         0         0  \n",
       "9         0         0  "
      ]
     },
     "execution_count": 4,
     "metadata": {},
     "output_type": "execute_result"
    }
   ],
   "source": [
    "tdf.head(10)"
   ]
  },
  {
   "cell_type": "code",
   "execution_count": 5,
   "id": "d61b218a",
   "metadata": {},
   "outputs": [
    {
     "data": {
      "text/plain": [
       "Unnamed: 0    65462\n",
       "x             65462\n",
       "y             65462\n",
       "labels        65462\n",
       "ACE2          65462\n",
       "TMPRSS2       65462\n",
       "EPCAM         65462\n",
       "a_labels      65462\n",
       "t_labels      65462\n",
       "e_labels      65462\n",
       "dtype: int64"
      ]
     },
     "execution_count": 5,
     "metadata": {},
     "output_type": "execute_result"
    }
   ],
   "source": [
    "tdf.count()"
   ]
  },
  {
   "cell_type": "markdown",
   "id": "8a5d01bb",
   "metadata": {},
   "source": [
    "## Data Description\n",
    "This represents a returned UMAP dataframe from raw cell data.  We're sharing post processed data for now because the exercise is on visualizaing, not running.\n",
    "\n",
    "- X and Y are the 2D coorindates of the UMAPembeddings. \n",
    "- Each labels are actually clusters\n",
    "- ACE2, TMPRSS2 and EPCAM are the gene expressions of interest\n",
    "- Each Gene expression has its own cluster"
   ]
  },
  {
   "cell_type": "markdown",
   "id": "91c97022",
   "metadata": {},
   "source": [
    "We need to be preprocess the data for Plot.ly Dash to render it.\n",
    "\n",
    "Pro tip: if you need GPU acceleration on the client side, use `gl` after the hart type, like `scatter` to `scattergl`"
   ]
  },
  {
   "cell_type": "markdown",
   "id": "e01159f2",
   "metadata": {},
   "source": [
    "## Let's make a controller!"
   ]
  },
  {
   "cell_type": "code",
   "execution_count": 6,
   "id": "0fe28f7b",
   "metadata": {},
   "outputs": [],
   "source": [
    "def update_graph(df):\n",
    "    fig = go.Figure()\n",
    "    for i in range(0, len(df['labels'].unique())):\n",
    "        si = str(i)\n",
    "        query = 'labels == '+str(i)\n",
    "        gdf = df.query(query)\n",
    "        fig=fig.add_trace(\n",
    "            go.Scattergl({\n",
    "            'x': gdf['x'].to_array(),\n",
    "            'y': gdf['y'].to_array(),\n",
    "            'text': gdf['labels'].to_array(),\n",
    "            'customdata': gdf['ACE2'].to_array(),\n",
    "            'name': 'Label '+si,\n",
    "            'mode': 'markers',\n",
    "            'marker': {'size': 12}\n",
    "        }))\n",
    "    fig.update_layout(showlegend=True, clickmode='event+select')\n",
    "    return fig"
   ]
  },
  {
   "cell_type": "code",
   "execution_count": 7,
   "id": "87c1fdd2",
   "metadata": {},
   "outputs": [],
   "source": [
    "def update_umap_viz(df, value):\n",
    "    umap_df = df[df['labels'].isin(value)]\n",
    "    return update_graph(umap_df)"
   ]
  },
  {
   "cell_type": "markdown",
   "id": "7c6698be",
   "metadata": {},
   "source": [
    "## Let's get that view on"
   ]
  },
  {
   "cell_type": "code",
   "execution_count": 18,
   "id": "91eafa74",
   "metadata": {},
   "outputs": [
    {
     "name": "stdout",
     "output_type": "stream",
     "text": [
      "Layout({\n",
      "    'clickmode': 'event+select', 'showlegend': True, 'template': '...'\n",
      "})\n"
     ]
    },
    {
     "data": {
      "text/html": [
       "<b style='color: red'>Please click on <a href='/proxy/80/' target='_blank'>here</a> to open the dash</b>"
      ],
      "text/plain": [
       "<IPython.core.display.HTML object>"
      ]
     },
     "metadata": {},
     "output_type": "display_data"
    },
    {
     "name": "stdout",
     "output_type": "stream",
     "text": [
      "Dash app running on http://127.0.0.1:80/proxy/80/\n"
     ]
    }
   ],
   "source": [
    "#Import stye sheets\n",
    "external_stylesheets = ['https://codepen.io/chriddyp/pen/bWLwgP.css']\n",
    "### Start the webapp\n",
    "\n",
    "app = JupyterDash(__name__, \n",
    "                  external_stylesheets=external_stylesheets, \n",
    "                  requests_pathname_prefix='/proxy/80/') # use this for when you are on more secured instances\n",
    "#app = dash.Dash(__name__, external_stylesheets=external_stylesheets) # use this is for when you control all the ports\n",
    "styles = {\n",
    "    'pre': {\n",
    "        'border': 'thin lightgrey solid',\n",
    "        'overflowX': 'scroll'\n",
    "    }\n",
    "}\n",
    "\n",
    "#bring in yur figure data\n",
    "fig = update_graph(tdf) #here is where you pull in your cudf dataframe to populate the main graph\n",
    "print(fig.layout)\n",
    "\n",
    "#let's make your view!\n",
    "app.layout = html.Div(id='site_body', children=[\n",
    "        dcc.Graph(id='basic-interactions',figure=fig),\n",
    "        html.Div(className='row', children=[\n",
    "            html.Div([\n",
    "                dcc.Markdown(\"\"\"\n",
    "                    **Hover Data**\n",
    "\n",
    "                    Mouse over values in the graph.\n",
    "                \"\"\"),\n",
    "                html.Pre(id='hover-data', style=styles['pre'])\n",
    "            ], className='three columns'),\n",
    "\n",
    "\n",
    "            html.Div([\n",
    "                dcc.Markdown(\"\"\"\n",
    "                    **Click Data**\n",
    "\n",
    "                    Click on points in the graph.\n",
    "                \"\"\"),\n",
    "                html.Pre(id='click-data', style=styles['pre']),\n",
    "            ], className='three columns'),\n",
    "\n",
    "\n",
    "            html.Div([\n",
    "                dcc.Markdown(\"\"\"\n",
    "                    **Selection Data**\n",
    "\n",
    "                    Choose the lasso or rectangle tool in the graph's menu\n",
    "                    bar and then select points in the graph.\n",
    "\n",
    "                    Note that if `layout.clickmode = 'event+select'`, selection data also \n",
    "                    accumulates (or un-accumulates) selected data if you hold down the shift\n",
    "                    button while clicking.\n",
    "                \"\"\"),\n",
    "                html.Pre(id='selected-data', style=styles['pre']),\n",
    "            ], className='three columns'),\n",
    "\n",
    "            html.Div([\n",
    "                dcc.Markdown(\"\"\"\n",
    "                    **Zoom and Relayout Data**\n",
    "\n",
    "                    Click and drag on the graph to zoom or click on the zoom\n",
    "                    buttons in the graph's menu bar.\n",
    "                    Clicking on legend items will also fire\n",
    "                    this event.\n",
    "                \"\"\"),\n",
    "                html.Pre(id='relayout-data', style=styles['pre']),\n",
    "            ], className='three columns'),\n",
    "            html.Div([\n",
    "                html.Button('Shutdown Dash', id='bt_close', n_clicks=0), #tried using a button\n",
    "                html.Div(id='close')\n",
    "            ]),\n",
    "        ])\n",
    "])\n",
    "\n",
    "### this displays data of point you're hovered over\n",
    "@app.callback(\n",
    "    Output('hover-data', 'children'),\n",
    "    [Input('basic-interactions', 'hoverData')])\n",
    "def display_hover_data(hoverData):\n",
    "    return json.dumps(hoverData, indent=2)\n",
    "\n",
    "### this displays data on point that you clicked on\n",
    "@app.callback(\n",
    "    Output('click-data', 'children'),\n",
    "    [Input('basic-interactions', 'clickData')])\n",
    "def display_click_data(clickData):\n",
    "    return json.dumps(clickData, indent=2)\n",
    "\n",
    "### this displays data of all the points you just selected\n",
    "@app.callback(\n",
    "    Output('selected-data', 'children'),\n",
    "    [Input('basic-interactions', 'selectedData')])\n",
    "def display_selected_data(selectedData):\n",
    "    return json.dumps(selectedData, indent=2)\n",
    "\n",
    "### this displays zoom information\n",
    "@app.callback(\n",
    "    Output('relayout-data', 'children'),\n",
    "    [Input('basic-interactions', 'relayoutData')])\n",
    "def display_relayout_data(relayoutData):\n",
    "    return json.dumps(relayoutData, indent=2)\n",
    "\n",
    "### this makes the botton close the dashboard\n",
    "@app.callback(\n",
    "    Output(\"site_body\", \"children\"), \n",
    "    Input('bt_close', 'n_clicks'))\n",
    "def export_current_df(export_clicks): \n",
    "    if not dash.callback_context.triggered:\n",
    "        raise dash.exceptions.PreventUpdate\n",
    "    func = request.environ.get('werkzeug.server.shutdown')\n",
    "    if func is None:\n",
    "        raise RuntimeError('Not running with the Werkzeug Server')\n",
    "    func()\n",
    "    return 'Closed'\n",
    "\n",
    "js = \"<b style='color: red'>Please click on <a href='/proxy/80/' target='_blank'>here</a> to open the dash</b>\"\n",
    "display(HTML(js))\n",
    "\n",
    "app.run_server(debug=True, use_reloader=False, port=80)"
   ]
  },
  {
   "cell_type": "code",
   "execution_count": 13,
   "id": "8596ead6",
   "metadata": {},
   "outputs": [
    {
     "name": "stdout",
     "output_type": "stream",
     "text": [
      "https://nd9ecf8wlt.clg07azjl.paperspacegradient.com/proxy/80/\n"
     ]
    }
   ],
   "source": [
    "# This is a sharable version of the link (for Paperspace)\n",
    "import os\n",
    "nid = os.environ['PAPERSPACE_NOTEBOOK_ID']\n",
    "cid = os.environ['PAPERSPACE_CLUSTER_ID']\n",
    "print('https://'+nid+'.'+cid+'.paperspacegradient.com/proxy/80/')"
   ]
  }
 ],
 "metadata": {
  "kernelspec": {
   "display_name": "Python 3",
   "language": "python",
   "name": "python3"
  },
  "language_info": {
   "codemirror_mode": {
    "name": "ipython",
    "version": 3
   },
   "file_extension": ".py",
   "mimetype": "text/x-python",
   "name": "python",
   "nbconvert_exporter": "python",
   "pygments_lexer": "ipython3",
   "version": "3.7.10"
  }
 },
 "nbformat": 4,
 "nbformat_minor": 5
}
